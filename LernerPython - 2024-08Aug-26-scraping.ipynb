{
 "cells": [
  {
   "cell_type": "markdown",
   "metadata": {},
   "source": [
    "# Agenda\n",
    "\n",
    "1. Introduction -- what is web scraping?\n",
    "2. Getting started\n",
    "    - Libraries\n",
    "    - Web technology background\n",
    "3. HTML and CSS\n",
    "4. BeautifulSoup\n",
    "    - Retrieving documents and parsing them\n",
    "    - Using CSS to retrieve pieces of documents\n",
    "5. Scrapy\n",
    "    - Building a simple spider\n",
    "    - Buliding a more complex spider project\n",
    "6. Scrapy settings and debugging"
   ]
  },
  {
   "cell_type": "markdown",
   "metadata": {},
   "source": [
    "# Introduction\n",
    "\n",
    "The original idea of the Web was that there would be documents, and they would be marked up with HTML (a tagging system). Over time, several things happened:\n",
    "\n",
    "- HTML pages became dynamically produced. They no longer had to represent an actual document on a disk somewhere.\n",
    "- CSS (cascading stylesheets) are a separate technology and language in the browser, alongside the HTML, that describes how things should look (and to some degree, how they should behave)\n",
    "- JavaScript is also (usually, somehow) inside of the Web page, and it provides computation that runs inside of your browser, interacting with the HTML and CSS, and also the user's mouse clicks, keyboard entry, etc.\n",
    "\n",
    "As more and more information was put on to the Web, we wanted to be able to find and extract it using software. The idea of \"crawling the Web\" or \"scraping the Web\" became a big thing. \n",
    "\n",
    "If you want to scrape a Web page, it doesn't sound like it should be so hard. And there are libraries that you can use to parse the HTML. But those are kind of brittle and annoying, plus you want something at a higher le"
   ]
  }
 ],
 "metadata": {
  "kernelspec": {
   "display_name": "Python 3 (ipykernel)",
   "language": "python",
   "name": "python3"
  },
  "language_info": {
   "codemirror_mode": {
    "name": "ipython",
    "version": 3
   },
   "file_extension": ".py",
   "mimetype": "text/x-python",
   "name": "python",
   "nbconvert_exporter": "python",
   "pygments_lexer": "ipython3",
   "version": "3.12.5"
  }
 },
 "nbformat": 4,
 "nbformat_minor": 4
}
