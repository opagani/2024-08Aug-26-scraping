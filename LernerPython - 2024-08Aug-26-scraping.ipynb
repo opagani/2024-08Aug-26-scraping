{
 "cells": [
  {
   "cell_type": "markdown",
   "metadata": {},
   "source": [
    "# Agenda\n",
    "\n",
    "1. Introduction -- what is web scraping?\n",
    "2. Getting started\n",
    "    - Libraries\n",
    "    - Web technology background\n",
    "3. HTML and CSS\n",
    "4. BeautifulSoup\n",
    "    - Retrieving documents and parsing them\n",
    "    - Using CSS to retrieve pieces of documents\n",
    "5. Scrapy\n",
    "    - Building a simple spider\n",
    "    - Buliding a more complex spider project\n",
    "6. Scrapy settings and debugging"
   ]
  },
  {
   "cell_type": "markdown",
   "metadata": {},
   "source": [
    "# Introduction\n",
    "\n"
   ]
  }
 ],
 "metadata": {
  "kernelspec": {
   "display_name": "Python 3 (ipykernel)",
   "language": "python",
   "name": "python3"
  },
  "language_info": {
   "codemirror_mode": {
    "name": "ipython",
    "version": 3
   },
   "file_extension": ".py",
   "mimetype": "text/x-python",
   "name": "python",
   "nbconvert_exporter": "python",
   "pygments_lexer": "ipython3",
   "version": "3.12.5"
  }
 },
 "nbformat": 4,
 "nbformat_minor": 4
}
